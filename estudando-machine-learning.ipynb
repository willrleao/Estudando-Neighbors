{
 "cells": [
  {
   "cell_type": "code",
   "execution_count": 1,
   "id": "2603ccc8",
   "metadata": {
    "_cell_guid": "b1076dfc-b9ad-4769-8c92-a6c4dae69d19",
    "_uuid": "8f2839f25d086af736a60e9eeb907d3b93b6e0e5",
    "execution": {
     "iopub.execute_input": "2023-05-02T23:36:17.552519Z",
     "iopub.status.busy": "2023-05-02T23:36:17.551653Z",
     "iopub.status.idle": "2023-05-02T23:36:17.573642Z",
     "shell.execute_reply": "2023-05-02T23:36:17.572458Z"
    },
    "papermill": {
     "duration": 0.031559,
     "end_time": "2023-05-02T23:36:17.577456",
     "exception": false,
     "start_time": "2023-05-02T23:36:17.545897",
     "status": "completed"
    },
    "tags": []
   },
   "outputs": [
    {
     "name": "stdout",
     "output_type": "stream",
     "text": [
      "/kaggle/input/wine-dataset/wine_dataset.csv\n"
     ]
    }
   ],
   "source": [
    "# This Python 3 environment comes with many helpful analytics libraries installed\n",
    "# It is defined by the kaggle/python Docker image: https://github.com/kaggle/docker-python\n",
    "# For example, here's several helpful packages to load\n",
    "\n",
    "import numpy as np # linear algebra\n",
    "import pandas as pd # data processing, CSV file I/O (e.g. pd.read_csv)\n",
    "\n",
    "# Input data files are available in the read-only \"../input/\" directory\n",
    "# For example, running this (by clicking run or pressing Shift+Enter) will list all files under the input directory\n",
    "\n",
    "import os\n",
    "for dirname, _, filenames in os.walk('/kaggle/input'):\n",
    "    for filename in filenames:\n",
    "        print(os.path.join(dirname, filename))\n",
    "\n",
    "# You can write up to 20GB to the current directory (/kaggle/working/) that gets preserved as output when you create a version using \"Save & Run All\" \n",
    "# You can also write temporary files to /kaggle/temp/, but they won't be saved outside of the current session"
   ]
  },
  {
   "cell_type": "code",
   "execution_count": 2,
   "id": "96e38f73",
   "metadata": {
    "execution": {
     "iopub.execute_input": "2023-05-02T23:36:17.584548Z",
     "iopub.status.busy": "2023-05-02T23:36:17.584204Z",
     "iopub.status.idle": "2023-05-02T23:36:19.226714Z",
     "shell.execute_reply": "2023-05-02T23:36:19.225565Z"
    },
    "papermill": {
     "duration": 1.648886,
     "end_time": "2023-05-02T23:36:19.229383",
     "exception": false,
     "start_time": "2023-05-02T23:36:17.580497",
     "status": "completed"
    },
    "tags": []
   },
   "outputs": [
    {
     "data": {
      "text/html": [
       "<div>\n",
       "<style scoped>\n",
       "    .dataframe tbody tr th:only-of-type {\n",
       "        vertical-align: middle;\n",
       "    }\n",
       "\n",
       "    .dataframe tbody tr th {\n",
       "        vertical-align: top;\n",
       "    }\n",
       "\n",
       "    .dataframe thead th {\n",
       "        text-align: right;\n",
       "    }\n",
       "</style>\n",
       "<table border=\"1\" class=\"dataframe\">\n",
       "  <thead>\n",
       "    <tr style=\"text-align: right;\">\n",
       "      <th></th>\n",
       "      <th>fixed_acidity</th>\n",
       "      <th>volatile_acidity</th>\n",
       "      <th>citric_acid</th>\n",
       "      <th>residual_sugar</th>\n",
       "      <th>chlorides</th>\n",
       "      <th>free_sulfur_dioxide</th>\n",
       "      <th>total_sulfur_dioxide</th>\n",
       "      <th>density</th>\n",
       "      <th>pH</th>\n",
       "      <th>sulphates</th>\n",
       "      <th>alcohol</th>\n",
       "      <th>quality</th>\n",
       "      <th>style</th>\n",
       "    </tr>\n",
       "  </thead>\n",
       "  <tbody>\n",
       "    <tr>\n",
       "      <th>0</th>\n",
       "      <td>7.4</td>\n",
       "      <td>0.70</td>\n",
       "      <td>0.0</td>\n",
       "      <td>1.9</td>\n",
       "      <td>0.076</td>\n",
       "      <td>11.0</td>\n",
       "      <td>34.0</td>\n",
       "      <td>0.9978</td>\n",
       "      <td>3.51</td>\n",
       "      <td>0.56</td>\n",
       "      <td>9.4</td>\n",
       "      <td>5</td>\n",
       "      <td>red</td>\n",
       "    </tr>\n",
       "    <tr>\n",
       "      <th>1</th>\n",
       "      <td>7.8</td>\n",
       "      <td>0.88</td>\n",
       "      <td>0.0</td>\n",
       "      <td>2.6</td>\n",
       "      <td>0.098</td>\n",
       "      <td>25.0</td>\n",
       "      <td>67.0</td>\n",
       "      <td>0.9968</td>\n",
       "      <td>3.20</td>\n",
       "      <td>0.68</td>\n",
       "      <td>9.8</td>\n",
       "      <td>5</td>\n",
       "      <td>red</td>\n",
       "    </tr>\n",
       "  </tbody>\n",
       "</table>\n",
       "</div>"
      ],
      "text/plain": [
       "   fixed_acidity  volatile_acidity  citric_acid  residual_sugar  chlorides  \\\n",
       "0            7.4              0.70          0.0             1.9      0.076   \n",
       "1            7.8              0.88          0.0             2.6      0.098   \n",
       "\n",
       "   free_sulfur_dioxide  total_sulfur_dioxide  density    pH  sulphates  \\\n",
       "0                 11.0                  34.0   0.9978  3.51       0.56   \n",
       "1                 25.0                  67.0   0.9968  3.20       0.68   \n",
       "\n",
       "   alcohol  quality style  \n",
       "0      9.4        5   red  \n",
       "1      9.8        5   red  "
      ]
     },
     "execution_count": 2,
     "metadata": {},
     "output_type": "execute_result"
    }
   ],
   "source": [
    "import numpy as np\n",
    "import pandas as pd\n",
    "import seaborn as sns\n",
    "import matplotlib.pyplot as plt\n",
    "from sklearn.model_selection import train_test_split\n",
    "from sklearn.preprocessing import StandardScaler\n",
    "from imblearn.over_sampling import RandomOverSampler\n",
    "from sklearn.neighbors import KNeighborsClassifier\n",
    "from sklearn.metrics import classification_report\n",
    "\n",
    "df = pd.DataFrame(pd.read_csv('/kaggle/input/wine-dataset/wine_dataset.csv'))\n",
    "df.head(2)"
   ]
  },
  {
   "cell_type": "markdown",
   "id": "e239eb8d",
   "metadata": {
    "papermill": {
     "duration": 0.002965,
     "end_time": "2023-05-02T23:36:19.235633",
     "exception": false,
     "start_time": "2023-05-02T23:36:19.232668",
     "status": "completed"
    },
    "tags": []
   },
   "source": [
    "# Explore Data"
   ]
  },
  {
   "cell_type": "code",
   "execution_count": 3,
   "id": "569287f9",
   "metadata": {
    "_kg_hide-output": true,
    "execution": {
     "iopub.execute_input": "2023-05-02T23:36:19.243438Z",
     "iopub.status.busy": "2023-05-02T23:36:19.243098Z",
     "iopub.status.idle": "2023-05-02T23:36:19.247887Z",
     "shell.execute_reply": "2023-05-02T23:36:19.246791Z"
    },
    "papermill": {
     "duration": 0.011839,
     "end_time": "2023-05-02T23:36:19.250496",
     "exception": false,
     "start_time": "2023-05-02T23:36:19.238657",
     "status": "completed"
    },
    "tags": []
   },
   "outputs": [],
   "source": [
    "# sns.set_theme(style=\"ticks\")\n",
    "# sns.pairplot(df, hue='style',markers=[\"o\", \"s\"])"
   ]
  },
  {
   "cell_type": "markdown",
   "id": "e45ae2af",
   "metadata": {
    "papermill": {
     "duration": 0.002862,
     "end_time": "2023-05-02T23:36:19.256344",
     "exception": false,
     "start_time": "2023-05-02T23:36:19.253482",
     "status": "completed"
    },
    "tags": []
   },
   "source": [
    "# Preparing Data"
   ]
  },
  {
   "cell_type": "code",
   "execution_count": 4,
   "id": "f1ab7e6f",
   "metadata": {
    "execution": {
     "iopub.execute_input": "2023-05-02T23:36:19.264105Z",
     "iopub.status.busy": "2023-05-02T23:36:19.263729Z",
     "iopub.status.idle": "2023-05-02T23:36:19.288870Z",
     "shell.execute_reply": "2023-05-02T23:36:19.287903Z"
    },
    "papermill": {
     "duration": 0.031895,
     "end_time": "2023-05-02T23:36:19.291221",
     "exception": false,
     "start_time": "2023-05-02T23:36:19.259326",
     "status": "completed"
    },
    "tags": []
   },
   "outputs": [],
   "source": [
    "df['style'] = (df['style'] == 'red').astype(int)\n",
    "x = df[df.columns[:-1]].values\n",
    "y = df[df.columns[-1]].values\n",
    "X_train, X_test, y_train, y_test = train_test_split(x, y, test_size=0.33, random_state=42)\n",
    "def scaler_format(x,y,oversample=False):\n",
    "    scaler = StandardScaler()\n",
    "    x = scaler.fit_transform(x)\n",
    "    if oversample:\n",
    "        ros = RandomOverSampler(random_state=42)\n",
    "        x, y = ros.fit_resample(x, y)\n",
    "    return x,y\n",
    "X_train, y_train = scaler_format(X_train,y_train, oversample=True)\n",
    "X_test, y_test = scaler_format(X_test,y_test, oversample=False)"
   ]
  },
  {
   "cell_type": "code",
   "execution_count": 5,
   "id": "fd3f10f3",
   "metadata": {
    "execution": {
     "iopub.execute_input": "2023-05-02T23:36:19.298117Z",
     "iopub.status.busy": "2023-05-02T23:36:19.297834Z",
     "iopub.status.idle": "2023-05-02T23:36:19.304655Z",
     "shell.execute_reply": "2023-05-02T23:36:19.303551Z"
    },
    "papermill": {
     "duration": 0.012759,
     "end_time": "2023-05-02T23:36:19.306790",
     "exception": false,
     "start_time": "2023-05-02T23:36:19.294031",
     "status": "completed"
    },
    "tags": []
   },
   "outputs": [
    {
     "data": {
      "text/plain": [
       "(array([3310, 3310]), array([1588,  557]))"
      ]
     },
     "execution_count": 5,
     "metadata": {},
     "output_type": "execute_result"
    }
   ],
   "source": [
    "np.bincount(y_train),np.bincount(y_test)"
   ]
  },
  {
   "cell_type": "markdown",
   "id": "1e90652a",
   "metadata": {
    "papermill": {
     "duration": 0.002445,
     "end_time": "2023-05-02T23:36:19.312079",
     "exception": false,
     "start_time": "2023-05-02T23:36:19.309634",
     "status": "completed"
    },
    "tags": []
   },
   "source": [
    "# Modelo KNN"
   ]
  },
  {
   "cell_type": "code",
   "execution_count": 6,
   "id": "7c8b32cd",
   "metadata": {
    "execution": {
     "iopub.execute_input": "2023-05-02T23:36:19.319704Z",
     "iopub.status.busy": "2023-05-02T23:36:19.318723Z",
     "iopub.status.idle": "2023-05-02T23:36:19.452032Z",
     "shell.execute_reply": "2023-05-02T23:36:19.450674Z"
    },
    "papermill": {
     "duration": 0.139828,
     "end_time": "2023-05-02T23:36:19.454741",
     "exception": false,
     "start_time": "2023-05-02T23:36:19.314913",
     "status": "completed"
    },
    "tags": []
   },
   "outputs": [
    {
     "name": "stdout",
     "output_type": "stream",
     "text": [
      "KNN:\n",
      "              precision    recall  f1-score   support\n",
      "\n",
      "           0       0.99      1.00      1.00      1588\n",
      "           1       0.99      0.99      0.99       557\n",
      "\n",
      "    accuracy                           0.99      2145\n",
      "   macro avg       0.99      0.99      0.99      2145\n",
      "weighted avg       0.99      0.99      0.99      2145\n",
      "\n"
     ]
    }
   ],
   "source": [
    "#KNN\n",
    "knn = KNeighborsClassifier(n_neighbors=1)\n",
    "knn.fit(X_train, y_train)\n",
    "#Predict KNN\n",
    "y_pred = knn.predict(X_test)\n",
    "\n",
    "print(f\"KNN:\\n{classification_report(y_test, y_pred)}\")"
   ]
  }
 ],
 "metadata": {
  "kernelspec": {
   "display_name": "Python 3",
   "language": "python",
   "name": "python3"
  },
  "language_info": {
   "codemirror_mode": {
    "name": "ipython",
    "version": 3
   },
   "file_extension": ".py",
   "mimetype": "text/x-python",
   "name": "python",
   "nbconvert_exporter": "python",
   "pygments_lexer": "ipython3",
   "version": "3.7.12"
  },
  "papermill": {
   "default_parameters": {},
   "duration": 12.612123,
   "end_time": "2023-05-02T23:36:20.079565",
   "environment_variables": {},
   "exception": null,
   "input_path": "__notebook__.ipynb",
   "output_path": "__notebook__.ipynb",
   "parameters": {},
   "start_time": "2023-05-02T23:36:07.467442",
   "version": "2.4.0"
  }
 },
 "nbformat": 4,
 "nbformat_minor": 5
}
